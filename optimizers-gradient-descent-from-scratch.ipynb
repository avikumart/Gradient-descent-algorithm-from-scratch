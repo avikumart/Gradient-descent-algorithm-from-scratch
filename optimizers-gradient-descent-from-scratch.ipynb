{
 "cells": [
  {
   "cell_type": "markdown",
   "id": "f7c8facd",
   "metadata": {
    "papermill": {
     "duration": 0.010716,
     "end_time": "2022-06-06T11:47:54.952855",
     "exception": false,
     "start_time": "2022-06-06T11:47:54.942139",
     "status": "completed"
    },
    "tags": []
   },
   "source": [
    "# Introduction\n",
    "\n",
    "**In this notebook, we will implement Gradient descent algorithms from scratch.**"
   ]
  },
  {
   "cell_type": "code",
   "execution_count": 1,
   "id": "fc000a2f",
   "metadata": {
    "_cell_guid": "b1076dfc-b9ad-4769-8c92-a6c4dae69d19",
    "_uuid": "8f2839f25d086af736a60e9eeb907d3b93b6e0e5",
    "execution": {
     "iopub.execute_input": "2022-06-06T11:47:54.969507Z",
     "iopub.status.busy": "2022-06-06T11:47:54.968906Z",
     "iopub.status.idle": "2022-06-06T11:47:54.992483Z",
     "shell.execute_reply": "2022-06-06T11:47:54.991817Z"
    },
    "papermill": {
     "duration": 0.035333,
     "end_time": "2022-06-06T11:47:54.995422",
     "exception": false,
     "start_time": "2022-06-06T11:47:54.960089",
     "status": "completed"
    },
    "tags": []
   },
   "outputs": [
    {
     "name": "stdout",
     "output_type": "stream",
     "text": [
      "/kaggle/input/advertising-dataset/Advertising.csv\n"
     ]
    }
   ],
   "source": [
    "import numpy as np \n",
    "import pandas as pd \n",
    "import math\n",
    "import matplotlib.pyplot as plt\n",
    "\n",
    "\n",
    "import warnings\n",
    "warnings.filterwarnings('ignore')\n",
    "\n",
    "import os\n",
    "for dirname, _, filenames in os.walk('/kaggle/input'):\n",
    "    for filename in filenames:\n",
    "        print(os.path.join(dirname, filename))"
   ]
  },
  {
   "cell_type": "code",
   "execution_count": 2,
   "id": "0de92e58",
   "metadata": {
    "execution": {
     "iopub.execute_input": "2022-06-06T11:47:55.012777Z",
     "iopub.status.busy": "2022-06-06T11:47:55.012017Z",
     "iopub.status.idle": "2022-06-06T11:47:55.030385Z",
     "shell.execute_reply": "2022-06-06T11:47:55.029585Z"
    },
    "papermill": {
     "duration": 0.028901,
     "end_time": "2022-06-06T11:47:55.032509",
     "exception": false,
     "start_time": "2022-06-06T11:47:55.003608",
     "status": "completed"
    },
    "tags": []
   },
   "outputs": [],
   "source": [
    "df = pd.read_csv('/kaggle/input/advertising-dataset/Advertising.csv')"
   ]
  },
  {
   "cell_type": "code",
   "execution_count": 3,
   "id": "deaa08e3",
   "metadata": {
    "execution": {
     "iopub.execute_input": "2022-06-06T11:47:55.049046Z",
     "iopub.status.busy": "2022-06-06T11:47:55.048061Z",
     "iopub.status.idle": "2022-06-06T11:47:55.069415Z",
     "shell.execute_reply": "2022-06-06T11:47:55.068426Z"
    },
    "papermill": {
     "duration": 0.031739,
     "end_time": "2022-06-06T11:47:55.071523",
     "exception": false,
     "start_time": "2022-06-06T11:47:55.039784",
     "status": "completed"
    },
    "tags": []
   },
   "outputs": [
    {
     "data": {
      "text/html": [
       "<div>\n",
       "<style scoped>\n",
       "    .dataframe tbody tr th:only-of-type {\n",
       "        vertical-align: middle;\n",
       "    }\n",
       "\n",
       "    .dataframe tbody tr th {\n",
       "        vertical-align: top;\n",
       "    }\n",
       "\n",
       "    .dataframe thead th {\n",
       "        text-align: right;\n",
       "    }\n",
       "</style>\n",
       "<table border=\"1\" class=\"dataframe\">\n",
       "  <thead>\n",
       "    <tr style=\"text-align: right;\">\n",
       "      <th></th>\n",
       "      <th>Unnamed: 0</th>\n",
       "      <th>TV</th>\n",
       "      <th>Radio</th>\n",
       "      <th>Newspaper</th>\n",
       "      <th>Sales</th>\n",
       "    </tr>\n",
       "  </thead>\n",
       "  <tbody>\n",
       "    <tr>\n",
       "      <th>0</th>\n",
       "      <td>1</td>\n",
       "      <td>230.1</td>\n",
       "      <td>37.8</td>\n",
       "      <td>69.2</td>\n",
       "      <td>22.1</td>\n",
       "    </tr>\n",
       "    <tr>\n",
       "      <th>1</th>\n",
       "      <td>2</td>\n",
       "      <td>44.5</td>\n",
       "      <td>39.3</td>\n",
       "      <td>45.1</td>\n",
       "      <td>10.4</td>\n",
       "    </tr>\n",
       "    <tr>\n",
       "      <th>2</th>\n",
       "      <td>3</td>\n",
       "      <td>17.2</td>\n",
       "      <td>45.9</td>\n",
       "      <td>69.3</td>\n",
       "      <td>9.3</td>\n",
       "    </tr>\n",
       "    <tr>\n",
       "      <th>3</th>\n",
       "      <td>4</td>\n",
       "      <td>151.5</td>\n",
       "      <td>41.3</td>\n",
       "      <td>58.5</td>\n",
       "      <td>18.5</td>\n",
       "    </tr>\n",
       "    <tr>\n",
       "      <th>4</th>\n",
       "      <td>5</td>\n",
       "      <td>180.8</td>\n",
       "      <td>10.8</td>\n",
       "      <td>58.4</td>\n",
       "      <td>12.9</td>\n",
       "    </tr>\n",
       "  </tbody>\n",
       "</table>\n",
       "</div>"
      ],
      "text/plain": [
       "   Unnamed: 0     TV  Radio  Newspaper  Sales\n",
       "0           1  230.1   37.8       69.2   22.1\n",
       "1           2   44.5   39.3       45.1   10.4\n",
       "2           3   17.2   45.9       69.3    9.3\n",
       "3           4  151.5   41.3       58.5   18.5\n",
       "4           5  180.8   10.8       58.4   12.9"
      ]
     },
     "execution_count": 3,
     "metadata": {},
     "output_type": "execute_result"
    }
   ],
   "source": [
    "df.head()"
   ]
  },
  {
   "cell_type": "markdown",
   "id": "022e9496",
   "metadata": {
    "papermill": {
     "duration": 0.006976,
     "end_time": "2022-06-06T11:47:55.085864",
     "exception": false,
     "start_time": "2022-06-06T11:47:55.078888",
     "status": "completed"
    },
    "tags": []
   },
   "source": [
    "**Define X variables and target y**"
   ]
  },
  {
   "cell_type": "code",
   "execution_count": 4,
   "id": "093576b9",
   "metadata": {
    "execution": {
     "iopub.execute_input": "2022-06-06T11:47:55.101709Z",
     "iopub.status.busy": "2022-06-06T11:47:55.101318Z",
     "iopub.status.idle": "2022-06-06T11:47:55.113063Z",
     "shell.execute_reply": "2022-06-06T11:47:55.112331Z"
    },
    "papermill": {
     "duration": 0.022155,
     "end_time": "2022-06-06T11:47:55.115116",
     "exception": false,
     "start_time": "2022-06-06T11:47:55.092961",
     "status": "completed"
    },
    "tags": []
   },
   "outputs": [],
   "source": [
    "X = df[['TV','Radio','Newspaper']]\n",
    "Y = df['Sales']"
   ]
  },
  {
   "cell_type": "markdown",
   "id": "7c3e4339",
   "metadata": {
    "papermill": {
     "duration": 0.007014,
     "end_time": "2022-06-06T11:47:55.129683",
     "exception": false,
     "start_time": "2022-06-06T11:47:55.122669",
     "status": "completed"
    },
    "tags": []
   },
   "source": [
    "### Steps to follow\n",
    "\n",
    "1. Randomly initialize the bias and wights\n",
    "2. Method to calculate the predicted value of Y, that is, Y given the bias and weights.\n",
    "3. calculate the cost function from predicted and actual Y.\n",
    "4. Method to calculate the gradiants and adjust the bia and weights.\n",
    "5. find optimal bias and weights"
   ]
  },
  {
   "cell_type": "markdown",
   "id": "4bfd394d",
   "metadata": {
    "papermill": {
     "duration": 0.007036,
     "end_time": "2022-06-06T11:47:55.144033",
     "exception": false,
     "start_time": "2022-06-06T11:47:55.136997",
     "status": "completed"
    },
    "tags": []
   },
   "source": [
    "# 1. Ramdomly initialize the bias and weights"
   ]
  },
  {
   "cell_type": "code",
   "execution_count": 5,
   "id": "cfe2d01d",
   "metadata": {
    "execution": {
     "iopub.execute_input": "2022-06-06T11:47:55.161059Z",
     "iopub.status.busy": "2022-06-06T11:47:55.159940Z",
     "iopub.status.idle": "2022-06-06T11:47:55.165944Z",
     "shell.execute_reply": "2022-06-06T11:47:55.165102Z"
    },
    "papermill": {
     "duration": 0.016509,
     "end_time": "2022-06-06T11:47:55.167893",
     "exception": false,
     "start_time": "2022-06-06T11:47:55.151384",
     "status": "completed"
    },
    "tags": []
   },
   "outputs": [],
   "source": [
    "def initialize(dim):\n",
    "    # for reproducible results, the seed it set to 42.\n",
    "    np.random.seed(seed=42)\n",
    "    np.random.seed(42)\n",
    "    # random bias\n",
    "    b = np.random.random()\n",
    "    # random weights\n",
    "    w = np.random.rand(dim)\n",
    "    return b, w    "
   ]
  },
  {
   "cell_type": "code",
   "execution_count": 6,
   "id": "2f1a499a",
   "metadata": {
    "execution": {
     "iopub.execute_input": "2022-06-06T11:47:55.184213Z",
     "iopub.status.busy": "2022-06-06T11:47:55.183655Z",
     "iopub.status.idle": "2022-06-06T11:47:55.188854Z",
     "shell.execute_reply": "2022-06-06T11:47:55.187786Z"
    },
    "papermill": {
     "duration": 0.01528,
     "end_time": "2022-06-06T11:47:55.190673",
     "exception": false,
     "start_time": "2022-06-06T11:47:55.175393",
     "status": "completed"
    },
    "tags": []
   },
   "outputs": [
    {
     "name": "stdout",
     "output_type": "stream",
     "text": [
      "Bias: 0.3745401188473625 Weights:  [0.95071431 0.73199394 0.59865848]\n"
     ]
    }
   ],
   "source": [
    "b, w = initialize(3)\n",
    "print(\"Bias:\", b, \"Weights: \", w)"
   ]
  },
  {
   "cell_type": "markdown",
   "id": "2468f902",
   "metadata": {
    "papermill": {
     "duration": 0.00695,
     "end_time": "2022-06-06T11:47:55.204952",
     "exception": false,
     "start_time": "2022-06-06T11:47:55.198002",
     "status": "completed"
    },
    "tags": []
   },
   "source": [
    "# 2. Predict Y values from the bias and weights"
   ]
  },
  {
   "cell_type": "code",
   "execution_count": 7,
   "id": "062b37eb",
   "metadata": {
    "execution": {
     "iopub.execute_input": "2022-06-06T11:47:55.221203Z",
     "iopub.status.busy": "2022-06-06T11:47:55.220612Z",
     "iopub.status.idle": "2022-06-06T11:47:55.225111Z",
     "shell.execute_reply": "2022-06-06T11:47:55.224260Z"
    },
    "papermill": {
     "duration": 0.015067,
     "end_time": "2022-06-06T11:47:55.227208",
     "exception": false,
     "start_time": "2022-06-06T11:47:55.212141",
     "status": "completed"
    },
    "tags": []
   },
   "outputs": [],
   "source": [
    "# inputs:\n",
    "# b- bias\n",
    "# w- weights\n",
    "# X- the input matrix\n",
    "\n",
    "def predict_Y(b,w,X):\n",
    "    return b + np.matmul(X, w)"
   ]
  },
  {
   "cell_type": "code",
   "execution_count": 8,
   "id": "7f622214",
   "metadata": {
    "execution": {
     "iopub.execute_input": "2022-06-06T11:47:55.244033Z",
     "iopub.status.busy": "2022-06-06T11:47:55.243609Z",
     "iopub.status.idle": "2022-06-06T11:47:55.252885Z",
     "shell.execute_reply": "2022-06-06T11:47:55.251951Z"
    },
    "papermill": {
     "duration": 0.020187,
     "end_time": "2022-06-06T11:47:55.255089",
     "exception": false,
     "start_time": "2022-06-06T11:47:55.234902",
     "status": "completed"
    },
    "tags": []
   },
   "outputs": [
    {
     "data": {
      "text/plain": [
       "0      288.230440\n",
       "1       98.448186\n",
       "2       91.812381\n",
       "3      209.660629\n",
       "4      215.130877\n",
       "          ...    \n",
       "195     47.661691\n",
       "196     98.367732\n",
       "197    179.289930\n",
       "198    340.372055\n",
       "199    232.538807\n",
       "Length: 200, dtype: float64"
      ]
     },
     "execution_count": 8,
     "metadata": {},
     "output_type": "execute_result"
    }
   ],
   "source": [
    "b, w = initialize(3)\n",
    "Y_hat = predict_Y(b,w,X)\n",
    "Y_hat"
   ]
  },
  {
   "cell_type": "markdown",
   "id": "d7867e67",
   "metadata": {
    "papermill": {
     "duration": 0.007235,
     "end_time": "2022-06-06T11:47:55.269671",
     "exception": false,
     "start_time": "2022-06-06T11:47:55.262436",
     "status": "completed"
    },
    "tags": []
   },
   "source": [
    "# 3. Calculate the cost function MSE"
   ]
  },
  {
   "cell_type": "code",
   "execution_count": 9,
   "id": "b575d935",
   "metadata": {
    "execution": {
     "iopub.execute_input": "2022-06-06T11:47:55.286671Z",
     "iopub.status.busy": "2022-06-06T11:47:55.285996Z",
     "iopub.status.idle": "2022-06-06T11:47:55.291193Z",
     "shell.execute_reply": "2022-06-06T11:47:55.290568Z"
    },
    "papermill": {
     "duration": 0.015915,
     "end_time": "2022-06-06T11:47:55.293094",
     "exception": false,
     "start_time": "2022-06-06T11:47:55.277179",
     "status": "completed"
    },
    "tags": []
   },
   "outputs": [],
   "source": [
    "# Inputs\n",
    "# Y - actual values of y\n",
    "# Y_hat - predicted values of y\n",
    "\n",
    "def get_cost(Y, Y_hat):\n",
    "    # calculating residuals \n",
    "    Y_resid = Y - Y_hat\n",
    "    # matrix multiplication with self will give the square values then take the sum and\n",
    "    # divide by the number of examples to calculate mean\n",
    "    return np.sum(np.matmul(Y_resid.T, Y_resid))/len(Y_resid)"
   ]
  },
  {
   "cell_type": "code",
   "execution_count": 10,
   "id": "74417994",
   "metadata": {
    "execution": {
     "iopub.execute_input": "2022-06-06T11:47:55.309826Z",
     "iopub.status.busy": "2022-06-06T11:47:55.309131Z",
     "iopub.status.idle": "2022-06-06T11:47:55.316931Z",
     "shell.execute_reply": "2022-06-06T11:47:55.316211Z"
    },
    "papermill": {
     "duration": 0.018341,
     "end_time": "2022-06-06T11:47:55.318772",
     "exception": false,
     "start_time": "2022-06-06T11:47:55.300431",
     "status": "completed"
    },
    "tags": []
   },
   "outputs": [
    {
     "data": {
      "text/plain": [
       "32572.353322708568"
      ]
     },
     "execution_count": 10,
     "metadata": {},
     "output_type": "execute_result"
    }
   ],
   "source": [
    "b, w = initialize(3)\n",
    "Y_hat = predict_Y(b, w, X)\n",
    "get_cost(Y, Y_hat)"
   ]
  },
  {
   "cell_type": "markdown",
   "id": "3b6e4af3",
   "metadata": {
    "papermill": {
     "duration": 0.007336,
     "end_time": "2022-06-06T11:47:55.333602",
     "exception": false,
     "start_time": "2022-06-06T11:47:55.326266",
     "status": "completed"
    },
    "tags": []
   },
   "source": [
    "# 4. Update the bias and weights"
   ]
  },
  {
   "cell_type": "code",
   "execution_count": 11,
   "id": "a907a7f0",
   "metadata": {
    "execution": {
     "iopub.execute_input": "2022-06-06T11:47:55.350506Z",
     "iopub.status.busy": "2022-06-06T11:47:55.349810Z",
     "iopub.status.idle": "2022-06-06T11:47:55.356460Z",
     "shell.execute_reply": "2022-06-06T11:47:55.355748Z"
    },
    "papermill": {
     "duration": 0.017554,
     "end_time": "2022-06-06T11:47:55.358487",
     "exception": false,
     "start_time": "2022-06-06T11:47:55.340933",
     "status": "completed"
    },
    "tags": []
   },
   "outputs": [],
   "source": [
    "def update_beta(x, y, y_hat, b_0, w_0, learning_rate):\n",
    "    # gradient of bias\n",
    "    db = (np.sum(y_hat-y)*2)/len(y)\n",
    "    # gradient of weights\n",
    "    dw = (np.dot((y_hat-y),x)/len(y))\n",
    "    # update bias and weights\n",
    "    b_1 = b_0 - (learning_rate*db)    \n",
    "    w_1 = w_0 - (learning_rate*dw)\n",
    "    # return the new bias and beta values\n",
    "    return b_1, w_1"
   ]
  },
  {
   "cell_type": "code",
   "execution_count": 12,
   "id": "db78140f",
   "metadata": {
    "execution": {
     "iopub.execute_input": "2022-06-06T11:47:55.375607Z",
     "iopub.status.busy": "2022-06-06T11:47:55.375193Z",
     "iopub.status.idle": "2022-06-06T11:47:55.384104Z",
     "shell.execute_reply": "2022-06-06T11:47:55.382823Z"
    },
    "papermill": {
     "duration": 0.020017,
     "end_time": "2022-06-06T11:47:55.386216",
     "exception": false,
     "start_time": "2022-06-06T11:47:55.366199",
     "status": "completed"
    },
    "tags": []
   },
   "outputs": [
    {
     "name": "stdout",
     "output_type": "stream",
     "text": [
      " After initialization-Bias:  0.3745401188473625 weights:  [0.95071431 0.73199394 0.59865848]\n",
      "After first update-Bias:  -2.8548192193043223 Weights:  [-303.85548785  -39.33612931  -53.1393137 ]\n"
     ]
    }
   ],
   "source": [
    "b,w = initialize(3)\n",
    "print(\" After initialization-Bias: \",b, \"weights: \", w)\n",
    "Y_hat = predict_Y(b, w, X)\n",
    "b,w = update_beta(X,Y, Y_hat, b, w, 0.01)\n",
    "print(\"After first update-Bias: \", b, \"Weights: \", w)"
   ]
  },
  {
   "cell_type": "markdown",
   "id": "31c626d6",
   "metadata": {
    "papermill": {
     "duration": 0.007401,
     "end_time": "2022-06-06T11:47:55.401176",
     "exception": false,
     "start_time": "2022-06-06T11:47:55.393775",
     "status": "completed"
    },
    "tags": []
   },
   "source": [
    "# 5. Finding optimal Bias and weights"
   ]
  },
  {
   "cell_type": "code",
   "execution_count": 13,
   "id": "a06e3377",
   "metadata": {
    "execution": {
     "iopub.execute_input": "2022-06-06T11:47:55.418553Z",
     "iopub.status.busy": "2022-06-06T11:47:55.417862Z",
     "iopub.status.idle": "2022-06-06T11:47:55.426338Z",
     "shell.execute_reply": "2022-06-06T11:47:55.425674Z"
    },
    "papermill": {
     "duration": 0.019389,
     "end_time": "2022-06-06T11:47:55.428314",
     "exception": false,
     "start_time": "2022-06-06T11:47:55.408925",
     "status": "completed"
    },
    "tags": []
   },
   "outputs": [],
   "source": [
    "def run_gradient_descent(X, Y, alpha=0.01, num_iterations = 100):\n",
    "    # initialize the bias and weights\n",
    "    b,w = initialize(X.shape[1])\n",
    "    \n",
    "    iter_num = 0\n",
    "    # gd_iterations_df to keep track of cost at every 10 iterations\n",
    "    dg_iterations_df = pd.DataFrame(columns = ['iteration','cost'])\n",
    "    result_idx = 0\n",
    "    \n",
    "    # run the iterations in a loop\n",
    "    for each_iter in range(num_iterations):\n",
    "        Y_hat = predict_Y(b,w, X)\n",
    "        # calculate the cost\n",
    "        this_cost = get_cost(Y,Y_hat)\n",
    "        # store previos bias and weights \n",
    "        prev_b = b\n",
    "        prev_w = w\n",
    "        #update and calculate the new values of bias and weights\n",
    "        b, w = update_beta(X,Y, Y_hat, prev_b, prev_w, alpha)\n",
    "        \n",
    "        # for every 10 iterations, store the cost (MSE)\n",
    "        if (iter_num %10 == 0):\n",
    "            dg_iterations_df.loc[result_idx] = [iter_num, this_cost]\n",
    "            result_idx += 1\n",
    "        iter_num += 1\n",
    "   \n",
    "    print(\"Final estimate of b nad w : \", b, w)\n",
    "    # return the final bias, wrights and the cost at the end\n",
    "    return dg_iterations_df, b, w"
   ]
  },
  {
   "cell_type": "code",
   "execution_count": 14,
   "id": "c5c6b490",
   "metadata": {
    "execution": {
     "iopub.execute_input": "2022-06-06T11:47:55.445524Z",
     "iopub.status.busy": "2022-06-06T11:47:55.444824Z",
     "iopub.status.idle": "2022-06-06T11:47:55.669919Z",
     "shell.execute_reply": "2022-06-06T11:47:55.668981Z"
    },
    "papermill": {
     "duration": 0.236182,
     "end_time": "2022-06-06T11:47:55.672024",
     "exception": false,
     "start_time": "2022-06-06T11:47:55.435842",
     "status": "completed"
    },
    "tags": []
   },
   "outputs": [
    {
     "name": "stdout",
     "output_type": "stream",
     "text": [
      "Final estimate of b nad w :  8.239682563730121e+290 [8.01514655e+292 9.89078670e+291 1.31107028e+292]\n"
     ]
    }
   ],
   "source": [
    "gd_iterations_df , b, w = run_gradient_descent(X,Y, alpha=0.001, num_iterations=200)"
   ]
  },
  {
   "cell_type": "code",
   "execution_count": 15,
   "id": "54d2da36",
   "metadata": {
    "execution": {
     "iopub.execute_input": "2022-06-06T11:47:55.689236Z",
     "iopub.status.busy": "2022-06-06T11:47:55.688738Z",
     "iopub.status.idle": "2022-06-06T11:47:55.701036Z",
     "shell.execute_reply": "2022-06-06T11:47:55.700108Z"
    },
    "papermill": {
     "duration": 0.023135,
     "end_time": "2022-06-06T11:47:55.702985",
     "exception": false,
     "start_time": "2022-06-06T11:47:55.679850",
     "status": "completed"
    },
    "tags": []
   },
   "outputs": [
    {
     "data": {
      "text/html": [
       "<div>\n",
       "<style scoped>\n",
       "    .dataframe tbody tr th:only-of-type {\n",
       "        vertical-align: middle;\n",
       "    }\n",
       "\n",
       "    .dataframe tbody tr th {\n",
       "        vertical-align: top;\n",
       "    }\n",
       "\n",
       "    .dataframe thead th {\n",
       "        text-align: right;\n",
       "    }\n",
       "</style>\n",
       "<table border=\"1\" class=\"dataframe\">\n",
       "  <thead>\n",
       "    <tr style=\"text-align: right;\">\n",
       "      <th></th>\n",
       "      <th>iteration</th>\n",
       "      <th>cost</th>\n",
       "    </tr>\n",
       "  </thead>\n",
       "  <tbody>\n",
       "    <tr>\n",
       "      <th>0</th>\n",
       "      <td>0.0</td>\n",
       "      <td>3.257235e+04</td>\n",
       "    </tr>\n",
       "    <tr>\n",
       "      <th>1</th>\n",
       "      <td>10.0</td>\n",
       "      <td>6.296869e+33</td>\n",
       "    </tr>\n",
       "    <tr>\n",
       "      <th>2</th>\n",
       "      <td>20.0</td>\n",
       "      <td>1.227155e+63</td>\n",
       "    </tr>\n",
       "    <tr>\n",
       "      <th>3</th>\n",
       "      <td>30.0</td>\n",
       "      <td>2.391523e+92</td>\n",
       "    </tr>\n",
       "    <tr>\n",
       "      <th>4</th>\n",
       "      <td>40.0</td>\n",
       "      <td>4.660682e+121</td>\n",
       "    </tr>\n",
       "    <tr>\n",
       "      <th>5</th>\n",
       "      <td>50.0</td>\n",
       "      <td>9.082898e+150</td>\n",
       "    </tr>\n",
       "    <tr>\n",
       "      <th>6</th>\n",
       "      <td>60.0</td>\n",
       "      <td>1.770106e+180</td>\n",
       "    </tr>\n",
       "    <tr>\n",
       "      <th>7</th>\n",
       "      <td>70.0</td>\n",
       "      <td>3.449644e+209</td>\n",
       "    </tr>\n",
       "    <tr>\n",
       "      <th>8</th>\n",
       "      <td>80.0</td>\n",
       "      <td>6.722786e+238</td>\n",
       "    </tr>\n",
       "    <tr>\n",
       "      <th>9</th>\n",
       "      <td>90.0</td>\n",
       "      <td>1.310160e+268</td>\n",
       "    </tr>\n",
       "  </tbody>\n",
       "</table>\n",
       "</div>"
      ],
      "text/plain": [
       "   iteration           cost\n",
       "0        0.0   3.257235e+04\n",
       "1       10.0   6.296869e+33\n",
       "2       20.0   1.227155e+63\n",
       "3       30.0   2.391523e+92\n",
       "4       40.0  4.660682e+121\n",
       "5       50.0  9.082898e+150\n",
       "6       60.0  1.770106e+180\n",
       "7       70.0  3.449644e+209\n",
       "8       80.0  6.722786e+238\n",
       "9       90.0  1.310160e+268"
      ]
     },
     "execution_count": 15,
     "metadata": {},
     "output_type": "execute_result"
    }
   ],
   "source": [
    "cost_df = gd_iterations_df[:10]\n",
    "cost_df"
   ]
  },
  {
   "cell_type": "markdown",
   "id": "d256a54f",
   "metadata": {
    "papermill": {
     "duration": 0.007736,
     "end_time": "2022-06-06T11:47:55.718826",
     "exception": false,
     "start_time": "2022-06-06T11:47:55.711090",
     "status": "completed"
    },
    "tags": []
   },
   "source": [
    "## Observations\n",
    "\n",
    "**Here, it should be noted that cost is descresing first to find minima and than it increses again to infinity.**\n",
    "\n",
    "**At the 90 iterations we are archiving minimum cost** "
   ]
  },
  {
   "cell_type": "code",
   "execution_count": 16,
   "id": "e1f7fa1a",
   "metadata": {
    "execution": {
     "iopub.execute_input": "2022-06-06T11:47:55.736771Z",
     "iopub.status.busy": "2022-06-06T11:47:55.736104Z",
     "iopub.status.idle": "2022-06-06T11:47:55.950252Z",
     "shell.execute_reply": "2022-06-06T11:47:55.949585Z"
    },
    "papermill": {
     "duration": 0.225262,
     "end_time": "2022-06-06T11:47:55.952083",
     "exception": false,
     "start_time": "2022-06-06T11:47:55.726821",
     "status": "completed"
    },
    "tags": []
   },
   "outputs": [
    {
     "data": {
      "image/png": "[encoded data removed]",
      "text/plain": [
       "<Figure size 504x504 with 1 Axes>"
      ]
     },
     "metadata": {
      "needs_background": "light"
     },
     "output_type": "display_data"
    }
   ],
   "source": [
    "plt.figure(figsize=(7,7))\n",
    "plt.plot(cost_df['iteration'], cost_df['cost'])\n",
    "plt.xlabel(\"Number of iterations\")\n",
    "plt.ylabel(\"Cost of MSE\")\n",
    "plt.show()"
   ]
  },
  {
   "cell_type": "code",
   "execution_count": 17,
   "id": "965eb4cb",
   "metadata": {
    "execution": {
     "iopub.execute_input": "2022-06-06T11:47:55.970996Z",
     "iopub.status.busy": "2022-06-06T11:47:55.970408Z",
     "iopub.status.idle": "2022-06-06T11:47:56.073902Z",
     "shell.execute_reply": "2022-06-06T11:47:56.073228Z"
    },
    "papermill": {
     "duration": 0.115357,
     "end_time": "2022-06-06T11:47:56.075793",
     "exception": false,
     "start_time": "2022-06-06T11:47:55.960436",
     "status": "completed"
    },
    "tags": []
   },
   "outputs": [
    {
     "name": "stdout",
     "output_type": "stream",
     "text": [
      "Final estimate of b nad w :  1.0258520101089695e+221 [9.97896962e+222 1.23141679e+222 1.63230085e+222]\n"
     ]
    }
   ],
   "source": [
    "df1, b, w = run_gradient_descent(X,Y, alpha=0.01, num_iterations=90)"
   ]
  },
  {
   "cell_type": "markdown",
   "id": "703e03cd",
   "metadata": {
    "papermill": {
     "duration": 0.008158,
     "end_time": "2022-06-06T11:47:56.092254",
     "exception": false,
     "start_time": "2022-06-06T11:47:56.084096",
     "status": "completed"
    },
    "tags": []
   },
   "source": [
    "#### End of the notebook!"
   ]
  }
 ],
 "metadata": {
  "kernelspec": {
   "display_name": "Python 3",
   "language": "python",
   "name": "python3"
  },
  "language_info": {
   "codemirror_mode": {
    "name": "ipython",
    "version": 3
   },
   "file_extension": ".py",
   "mimetype": "text/x-python",
   "name": "python",
   "nbconvert_exporter": "python",
   "pygments_lexer": "ipython3",
   "version": "3.7.12"
  },
  "papermill": {
   "default_parameters": {},
   "duration": 11.198602,
   "end_time": "2022-06-06T11:47:56.720764",
   "environment_variables": {},
   "exception": null,
   "input_path": "__notebook__.ipynb",
   "output_path": "__notebook__.ipynb",
   "parameters": {},
   "start_time": "2022-06-06T11:47:45.522162",
   "version": "2.3.4"
  }
 },
 "nbformat": 4,
 "nbformat_minor": 5
}
